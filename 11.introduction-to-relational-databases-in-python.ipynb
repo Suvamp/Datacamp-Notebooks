{
 "cells": [
  {
   "cell_type": "markdown",
   "metadata": {},
   "source": [
    "# Relational Databases\n",
    "\n",
    "* consist of tables.\n",
    "* Table consist of row and column.\n",
    "* Table can be related.(Relational)"
   ]
  },
  {
   "cell_type": "markdown",
   "metadata": {},
   "source": [
    "# Connecting to your Database\n",
    "\n",
    "### SQLAlchemy\n",
    "\n",
    "* Core (Rational model focused)\n",
    "* ORM  (User data model focused)\n",
    "\n",
    "\n",
    "#### Engine -> common interface to database.\n",
    "#### Refelction -> Read database and create table object."
   ]
  },
  {
   "cell_type": "code",
   "execution_count": 3,
   "metadata": {},
   "outputs": [
    {
     "name": "stdout",
     "output_type": "stream",
     "text": [
      "['census', 'state_fact']\n"
     ]
    }
   ],
   "source": [
    "from sqlalchemy import create_engine\n",
    "engine = create_engine('sqlite:///census.sqlite')\n",
    "connection  = engine.connect()\n",
    "print(engine.table_names())"
   ]
  },
  {
   "cell_type": "code",
   "execution_count": 4,
   "metadata": {},
   "outputs": [
    {
     "name": "stdout",
     "output_type": "stream",
     "text": [
      "Table('census', MetaData(bind=None), Column('state', VARCHAR(length=30), table=<census>), Column('sex', VARCHAR(length=1), table=<census>), Column('age', INTEGER(), table=<census>), Column('pop2000', INTEGER(), table=<census>), Column('pop2008', INTEGER(), table=<census>), schema=None)\n"
     ]
    }
   ],
   "source": [
    "from sqlalchemy import MetaData, Table\n",
    "metadata = MetaData()\n",
    "census = Table('census',metadata,autoload=True,autoload_with=engine)\n",
    "print(repr(census))"
   ]
  },
  {
   "cell_type": "code",
   "execution_count": 6,
   "metadata": {},
   "outputs": [
    {
     "name": "stdout",
     "output_type": "stream",
     "text": [
      "['state', 'sex', 'age', 'pop2000', 'pop2008']\n",
      "\n",
      "\n",
      "Table('census', MetaData(bind=None), Column('state', VARCHAR(length=30), table=<census>), Column('sex', VARCHAR(length=1), table=<census>), Column('age', INTEGER(), table=<census>), Column('pop2000', INTEGER(), table=<census>), Column('pop2008', INTEGER(), table=<census>), schema=None)\n"
     ]
    }
   ],
   "source": [
    "# Print the column names\n",
    "print(census.columns.keys(),end='\\n\\n\\n')\n",
    "\n",
    "# Print full table metadata\n",
    "print(repr(metadata.tables['census']))"
   ]
  },
  {
   "cell_type": "markdown",
   "metadata": {},
   "source": [
    "# SQL Statements\n",
    "\n",
    "* Select ,Insert, Update and Delete data\n",
    "* create and ulter data"
   ]
  },
  {
   "cell_type": "code",
   "execution_count": null,
   "metadata": {
    "collapsed": true
   },
   "outputs": [],
   "source": [
    "# SELECT COL"
   ]
  },
  {
   "cell_type": "code",
   "execution_count": null,
   "metadata": {
    "collapsed": true
   },
   "outputs": [],
   "source": []
  },
  {
   "cell_type": "code",
   "execution_count": null,
   "metadata": {
    "collapsed": true
   },
   "outputs": [],
   "source": []
  },
  {
   "cell_type": "code",
   "execution_count": null,
   "metadata": {
    "collapsed": true
   },
   "outputs": [],
   "source": []
  }
 ],
 "metadata": {
  "kernelspec": {
   "display_name": "Python [conda env:Python-3]",
   "language": "python",
   "name": "conda-env-Python-3-py"
  },
  "language_info": {
   "codemirror_mode": {
    "name": "ipython",
    "version": 3
   },
   "file_extension": ".py",
   "mimetype": "text/x-python",
   "name": "python",
   "nbconvert_exporter": "python",
   "pygments_lexer": "ipython3",
   "version": "3.5.3"
  }
 },
 "nbformat": 4,
 "nbformat_minor": 2
}
