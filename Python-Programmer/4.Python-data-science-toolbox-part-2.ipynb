{
 "cells": [
  {
   "cell_type": "markdown",
   "metadata": {},
   "source": [
    "# Introduction to iterators and iterables"
   ]
  },
  {
   "cell_type": "markdown",
   "metadata": {},
   "source": [
    "* iterate over a **list** in for loop.\n",
    "* iterate over a **string** in for loop.\n",
    "* iterate over a **range** of object.\n",
    "\n",
    "\n",
    "### Iterables\n",
    "\n",
    "* Ex- list,string,dictionary,file connection .\n",
    "* any object associate with iter() method .\n",
    "* apply iter() to **iterables** creates **iterators** .\n",
    "\n",
    "### iterators\n",
    "\n",
    "* produce next value with next(). "
   ]
  },
  {
   "cell_type": "code",
   "execution_count": null,
   "metadata": {
    "collapsed": true
   },
   "outputs": [],
   "source": [
    "# iteraing over iterables\n",
    "\n",
    "word = 'da'\n",
    "it = iter(word)\n",
    "print(next(it))\n",
    "print(next(it))\n",
    "print(next(it))"
   ]
  },
  {
   "cell_type": "code",
   "execution_count": null,
   "metadata": {
    "collapsed": true
   },
   "outputs": [],
   "source": [
    "# splat operator\n",
    "word1 = 'data'\n",
    "it = iter(word1)\n",
    "print(*it)\n",
    "\n",
    "# no values to iterate through. so null\n",
    "print(*it)"
   ]
  },
  {
   "cell_type": "code",
   "execution_count": null,
   "metadata": {
    "collapsed": true
   },
   "outputs": [],
   "source": [
    "# iterating through Dictionary\n",
    "\n",
    "starwar = {'darth vadar':'empire', 'anakin skywalker':'republic'}\n",
    "\n",
    "for key,value in starwar.items():\n",
    "    print(key,value)"
   ]
  },
  {
   "cell_type": "code",
   "execution_count": null,
   "metadata": {
    "collapsed": true
   },
   "outputs": [],
   "source": [
    "# file connction\n",
    "\n",
    "file = open('new.txt')\n",
    "it = iter(file)\n",
    "\n",
    "print(next(it))\n",
    "print(next(it))"
   ]
  },
  {
   "cell_type": "code",
   "execution_count": null,
   "metadata": {
    "collapsed": true
   },
   "outputs": [],
   "source": [
    "# range doesn't return list object. \n",
    "\n",
    "s = range(3)\n",
    "print(s)\n",
    "print(type(s))\n",
    "\n",
    "\n",
    "# to make range to a list\n",
    "slist = list(s)\n",
    "print(slist)"
   ]
  },
  {
   "cell_type": "markdown",
   "metadata": {},
   "source": [
    "#  enumurate()"
   ]
  },
  {
   "cell_type": "code",
   "execution_count": null,
   "metadata": {
    "collapsed": true
   },
   "outputs": [],
   "source": [
    "# using enumurate()\n",
    "\n",
    "batfamily = ['batman','nightwing','batgirl','robin']\n",
    "e = enumerate(batfamily)\n",
    "\n",
    "print(type(e))\n",
    "\n",
    "elist = list(e)\n",
    "# return list of tuple of index and values\n",
    "print(elist)"
   ]
  },
  {
   "cell_type": "code",
   "execution_count": null,
   "metadata": {
    "collapsed": true
   },
   "outputs": [],
   "source": [
    "batfamily = ['batman','nightwing','batgirl','robin']\n",
    "\n",
    "for index,value in enumerate(batfamily):\n",
    "    print(index,value)\n",
    "\n",
    "print(\"\")    \n",
    "    \n",
    "for index,value in enumerate(batfamily,start=10):\n",
    "    print(index,value)    "
   ]
  },
  {
   "cell_type": "markdown",
   "metadata": {},
   "source": [
    " # zip()\n",
    " \n",
    " * zip can be used to zip more than 2 list."
   ]
  },
  {
   "cell_type": "code",
   "execution_count": null,
   "metadata": {
    "collapsed": true
   },
   "outputs": [],
   "source": [
    "avengers = ['captain america','ironman','spiderman']\n",
    "names = ['steve','stark','perer']\n",
    "\n",
    "z = zip(avengers,names)\n",
    "print(type(z))\n",
    "\n",
    "zlist = list(z)\n",
    "print(*z)\n",
    "# return a touple of list\n",
    "print(zlist)"
   ]
  },
  {
   "cell_type": "code",
   "execution_count": null,
   "metadata": {
    "collapsed": true
   },
   "outputs": [],
   "source": [
    "# use of splat operator\n",
    "\n",
    "\n",
    "avengers = ['captain america','ironman','spiderman']\n",
    "names = ['steve','stark','perer']\n",
    "z = zip(avengers,names)\n",
    "print(*z)"
   ]
  },
  {
   "cell_type": "code",
   "execution_count": null,
   "metadata": {
    "collapsed": true
   },
   "outputs": [],
   "source": [
    "# unzip with argument zip(*var)\n",
    "\n",
    "avengers = ['captain america','ironman','spiderman']\n",
    "names = ['steve','stark','perer']\n",
    "z = zip(avengers,names)\n",
    "\n",
    "aven,name = zip(*z)\n",
    "\n",
    "# return touple\n",
    "print(aven)\n",
    "print(name)"
   ]
  },
  {
   "cell_type": "markdown",
   "metadata": {},
   "source": [
    "# Using iterators to load large files into memory using chunk\n",
    "\n",
    "* **next**  keyword work with chunk.\n",
    "* ex- next(df)\n"
   ]
  },
  {
   "cell_type": "code",
   "execution_count": null,
   "metadata": {
    "collapsed": true
   },
   "outputs": [],
   "source": [
    "import pandas as pd\n",
    "df = pd.read_csv('tweets.csv')\n",
    "df['lang'].head()"
   ]
  },
  {
   "cell_type": "code",
   "execution_count": null,
   "metadata": {
    "collapsed": true
   },
   "outputs": [],
   "source": [
    "# Initialize an empty dictionary: counts_dict\n",
    "counts_dict = {}\n",
    "\n",
    "\n",
    "# Iterate over the file chunk by chunk\n",
    "for chunk in pd.read_csv('tweets.csv',chunksize=10):\n",
    "\n",
    "    # Iterate over the column in DataFrame\n",
    "    for entry in chunk['lang']:\n",
    "        if entry in counts_dict.keys():\n",
    "            counts_dict[entry] += 1\n",
    "        else:\n",
    "            counts_dict[entry] = 1\n",
    "\n",
    "# Print the populated dictionary\n",
    "print(counts_dict)"
   ]
  },
  {
   "cell_type": "markdown",
   "metadata": {},
   "source": [
    "# List comprehensions\n",
    "\n",
    "* collapse for loops building lists into a  single line\n",
    "* components\n",
    "    1. iterables\n",
    "    2. iterator varibale\n",
    "    3. output expession"
   ]
  },
  {
   "cell_type": "code",
   "execution_count": null,
   "metadata": {
    "collapsed": true
   },
   "outputs": [],
   "source": [
    "nums = [1,2,3,4,8,5]\n",
    "new_nums = [num+1 for  num in nums]\n",
    "print(new_nums)"
   ]
  },
  {
   "cell_type": "code",
   "execution_count": null,
   "metadata": {
    "collapsed": true
   },
   "outputs": [],
   "source": [
    "result = [num for num in range(11) ]\n",
    "result"
   ]
  },
  {
   "cell_type": "code",
   "execution_count": null,
   "metadata": {
    "collapsed": true
   },
   "outputs": [],
   "source": [
    "pair_1 = []\n",
    "\n",
    "for num1 in range(0,2):\n",
    "    for num2 in range(6,8):\n",
    "        pair_1.append((num1,num2))\n",
    "\n",
    "print(pair_1)        "
   ]
  },
  {
   "cell_type": "code",
   "execution_count": null,
   "metadata": {
    "collapsed": true
   },
   "outputs": [],
   "source": [
    "pair_2 = [(num1,num2) for num1 in range(0,2) for num2 in range(6,8)]\n",
    "pair_2"
   ]
  },
  {
   "cell_type": "code",
   "execution_count": null,
   "metadata": {
    "collapsed": true
   },
   "outputs": [],
   "source": [
    "square = [[row for row in range(5)] for col in range(5)]\n",
    "square"
   ]
  },
  {
   "cell_type": "markdown",
   "metadata": {
    "collapsed": true
   },
   "source": [
    "## Condiotional  comprehensions"
   ]
  },
  {
   "cell_type": "code",
   "execution_count": null,
   "metadata": {
    "collapsed": true
   },
   "outputs": [],
   "source": [
    "# Condiotional in comprehension\n",
    "print([num ** 2 for num in range(9) if num % 2 == 0])\n",
    "\n",
    "[num ** 2 if num % 2 == 0 else 0 for num in range(9)]"
   ]
  },
  {
   "cell_type": "code",
   "execution_count": null,
   "metadata": {
    "collapsed": true
   },
   "outputs": [],
   "source": [
    "# Dict comprehensions\n",
    "\n",
    "pos_neg = {num: -num*2  for num in range(9)}\n",
    "print(pos_neg)"
   ]
  },
  {
   "cell_type": "markdown",
   "metadata": {},
   "source": [
    "# Introduction to generator\n",
    "\n",
    "* Do not store the result .\n",
    "* efficient for large datasets.\n",
    "* use list for converting it to list.\n",
    "* we can also use  next to iterate over it."
   ]
  },
  {
   "cell_type": "code",
   "execution_count": null,
   "metadata": {
    "collapsed": true
   },
   "outputs": [],
   "source": [
    "generator = (num**2 for num in range(3))\n",
    "for i in generator:\n",
    "    print (i)"
   ]
  },
  {
   "cell_type": "markdown",
   "metadata": {},
   "source": [
    "## Generator functions\n",
    "\n",
    "* prodeuce generator object when called.\n",
    "* yield a sequence of value instead of returing a single one.\n",
    "* Generates value with **yield** keyword. \n",
    "* Always streaming until ther is no line."
   ]
  },
  {
   "cell_type": "code",
   "execution_count": null,
   "metadata": {
    "collapsed": true
   },
   "outputs": [],
   "source": [
    "def hello(n):\n",
    "    i = 0\n",
    "    while i < n:\n",
    "        yield i\n",
    "        i += 1\n",
    "# we can also iterate over it.\n",
    "\n",
    "a = hello(5)   \n",
    "print(list(a))"
   ]
  },
  {
   "cell_type": "code",
   "execution_count": null,
   "metadata": {
    "collapsed": true
   },
   "outputs": [],
   "source": [
    "# list to dictionary\n",
    "feature_names = [1,2]\n",
    "row_vals = [3,4]\n",
    "\n",
    "zipped_lists = list(zip(feature_names,row_vals))\n",
    "\n",
    "# Create a dictionary: rs_dict\n",
    "rs_dict = dict(zipped_lists)\n"
   ]
  },
  {
   "cell_type": "markdown",
   "metadata": {},
   "source": [
    "# Pandas scatter plot\n",
    "\n",
    "#### x,y= only name of column"
   ]
  },
  {
   "cell_type": "code",
   "execution_count": null,
   "metadata": {
    "collapsed": true
   },
   "outputs": [],
   "source": [
    "import pandas as pd\n",
    "\n",
    "# Initialize reader object: urb_pop_reader\n",
    "urb_pop_reader = pd.read_csv('ind_pop_data.csv', chunksize=1000)\n",
    "\n",
    "# Get the first DataFrame chunk: df_urb_pop\n",
    "df_urb_pop = next(urb_pop_reader)\n",
    "\n",
    "# Check out specific country: df_pop_ceb\n",
    "df_pop_ceb = df_urb_pop[df_urb_pop['CountryCode'] == 'CEB']\n",
    "\n",
    "# Zip DataFrame columns of interest: pops\n",
    "pops = zip(df_pop_ceb['Total Population'], \n",
    "            df_pop_ceb['Urban population (% of total)'])\n",
    "\n",
    "# Turn zip object into list: pops_list\n",
    "pops_list = list(pops)\n",
    "\n",
    "# Use list comprehension to create new DataFrame column 'Total Urban Population'\n",
    "df_pop_ceb['Total Urban Population'] = [int(tup[0] * tup[1] * 0.01) for tup in pops_list]\n",
    "\n",
    "# Plot urban population data\n",
    "df_pop_ceb.plot(kind='scatter', x='Year', y='Total Urban Population')\n",
    "plt.show()\n"
   ]
  },
  {
   "cell_type": "markdown",
   "metadata": {},
   "source": [
    "## create and append a empty dataframe"
   ]
  },
  {
   "cell_type": "code",
   "execution_count": null,
   "metadata": {
    "collapsed": true
   },
   "outputs": [],
   "source": [
    "# create\n",
    "data = pd.DataFrame()\n",
    "\n",
    "# append\n",
    "data = data.append(df_pop_ceb)\n",
    "\n",
    "#plotting\n",
    "data.plot(kind='scatter', x='Year', y='Total Urban Population')\n",
    "plt.show()"
   ]
  }
 ],
 "metadata": {
  "kernelspec": {
   "display_name": "Python [conda env:Python-3]",
   "language": "python",
   "name": "conda-env-Python-3-py"
  },
  "language_info": {
   "codemirror_mode": {
    "name": "ipython",
    "version": 3
   },
   "file_extension": ".py",
   "mimetype": "text/x-python",
   "name": "python",
   "nbconvert_exporter": "python",
   "pygments_lexer": "ipython3",
   "version": "3.5.3"
  }
 },
 "nbformat": 4,
 "nbformat_minor": 2
}
