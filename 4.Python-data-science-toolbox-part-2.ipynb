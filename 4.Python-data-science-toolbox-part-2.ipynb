{
 "cells": [
  {
   "cell_type": "markdown",
   "metadata": {},
   "source": [
    "# Introduction to iterators and iterables"
   ]
  },
  {
   "cell_type": "markdown",
   "metadata": {},
   "source": [
    "* iterate over a **list** in for loop.\n",
    "* iterate over a **string** in for loop.\n",
    "* iterate over a **range** of object.\n",
    "\n",
    "\n",
    "### Iterables\n",
    "\n",
    "* Ex- list,string,dictionary,file connection .\n",
    "* any object associate with iter() method .\n",
    "* apply iter() to **iterables** creates **iterators** .\n",
    "\n",
    "### iterators\n",
    "\n",
    "* produce next value with next(). "
   ]
  },
  {
   "cell_type": "code",
   "execution_count": 2,
   "metadata": {},
   "outputs": [
    {
     "name": "stdout",
     "output_type": "stream",
     "text": [
      "d\n",
      "a\n"
     ]
    },
    {
     "ename": "StopIteration",
     "evalue": "",
     "output_type": "error",
     "traceback": [
      "\u001b[0;31m---------------------------------------------------------------------------\u001b[0m",
      "\u001b[0;31mStopIteration\u001b[0m                             Traceback (most recent call last)",
      "\u001b[0;32m<ipython-input-2-9f9d298e1053>\u001b[0m in \u001b[0;36m<module>\u001b[0;34m()\u001b[0m\n\u001b[1;32m      5\u001b[0m \u001b[0mprint\u001b[0m\u001b[0;34m(\u001b[0m\u001b[0mnext\u001b[0m\u001b[0;34m(\u001b[0m\u001b[0mit\u001b[0m\u001b[0;34m)\u001b[0m\u001b[0;34m)\u001b[0m\u001b[0;34m\u001b[0m\u001b[0m\n\u001b[1;32m      6\u001b[0m \u001b[0mprint\u001b[0m\u001b[0;34m(\u001b[0m\u001b[0mnext\u001b[0m\u001b[0;34m(\u001b[0m\u001b[0mit\u001b[0m\u001b[0;34m)\u001b[0m\u001b[0;34m)\u001b[0m\u001b[0;34m\u001b[0m\u001b[0m\n\u001b[0;32m----> 7\u001b[0;31m \u001b[0mprint\u001b[0m\u001b[0;34m(\u001b[0m\u001b[0mnext\u001b[0m\u001b[0;34m(\u001b[0m\u001b[0mit\u001b[0m\u001b[0;34m)\u001b[0m\u001b[0;34m)\u001b[0m\u001b[0;34m\u001b[0m\u001b[0m\n\u001b[0m",
      "\u001b[0;31mStopIteration\u001b[0m: "
     ]
    }
   ],
   "source": [
    "# iteraing over iterables\n",
    "\n",
    "word = 'da'\n",
    "it = iter(word)\n",
    "print(next(it))\n",
    "print(next(it))\n",
    "print(next(it))"
   ]
  },
  {
   "cell_type": "code",
   "execution_count": 4,
   "metadata": {},
   "outputs": [
    {
     "name": "stdout",
     "output_type": "stream",
     "text": [
      "d a t a\n",
      "\n"
     ]
    }
   ],
   "source": [
    "# splat operator\n",
    "word1 = 'data'\n",
    "it = iter(word1)\n",
    "print(*it)\n",
    "\n",
    "# no values to iterate through. so null\n",
    "print(*it)"
   ]
  },
  {
   "cell_type": "code",
   "execution_count": 6,
   "metadata": {},
   "outputs": [
    {
     "name": "stdout",
     "output_type": "stream",
     "text": [
      "darth vadar empire\n",
      "anakin skywalker republic\n"
     ]
    }
   ],
   "source": [
    "# iterating through Dictionary\n",
    "\n",
    "starwar = {'darth vadar':'empire', 'anakin skywalker':'republic'}\n",
    "\n",
    "for key,value in starwar.items():\n",
    "    print(key,value)"
   ]
  },
  {
   "cell_type": "code",
   "execution_count": 7,
   "metadata": {},
   "outputs": [
    {
     "name": "stdout",
     "output_type": "stream",
     "text": [
      "hello world \n",
      "\n",
      "hello chinmay\n",
      "\n"
     ]
    }
   ],
   "source": [
    "# file connction\n",
    "\n",
    "file = open('new.txt')\n",
    "it = iter(file)\n",
    "\n",
    "print(next(it))\n",
    "print(next(it))"
   ]
  },
  {
   "cell_type": "code",
   "execution_count": 14,
   "metadata": {},
   "outputs": [
    {
     "name": "stdout",
     "output_type": "stream",
     "text": [
      "range(0, 3)\n",
      "<class 'range'>\n",
      "[0, 1, 2]\n"
     ]
    }
   ],
   "source": [
    "# range doesn't return list object. \n",
    "\n",
    "s = range(3)\n",
    "print(s)\n",
    "print(type(s))\n",
    "\n",
    "\n",
    "# to make range to a list\n",
    "slist = list(s)\n",
    "print(slist)"
   ]
  },
  {
   "cell_type": "markdown",
   "metadata": {},
   "source": [
    "#  enumurate()"
   ]
  },
  {
   "cell_type": "code",
   "execution_count": 19,
   "metadata": {},
   "outputs": [
    {
     "name": "stdout",
     "output_type": "stream",
     "text": [
      "<class 'enumerate'>\n",
      "[(0, 'batman'), (1, 'nightwing'), (2, 'batgirl'), (3, 'robin')]\n"
     ]
    }
   ],
   "source": [
    "# using enumurate()\n",
    "\n",
    "batfamily = ['batman','nightwing','batgirl','robin']\n",
    "e = enumerate(batfamily)\n",
    "\n",
    "print(type(e))\n",
    "\n",
    "elist = list(e)\n",
    "# return list of tuple of index and values\n",
    "print(elist)"
   ]
  },
  {
   "cell_type": "code",
   "execution_count": 22,
   "metadata": {},
   "outputs": [
    {
     "name": "stdout",
     "output_type": "stream",
     "text": [
      "0 batman\n",
      "1 nightwing\n",
      "2 batgirl\n",
      "3 robin\n",
      "\n",
      "10 batman\n",
      "11 nightwing\n",
      "12 batgirl\n",
      "13 robin\n"
     ]
    }
   ],
   "source": [
    "batfamily = ['batman','nightwing','batgirl','robin']\n",
    "\n",
    "for index,value in enumerate(batfamily):\n",
    "    print(index,value)\n",
    "\n",
    "print(\"\")    \n",
    "    \n",
    "for index,value in enumerate(batfamily,start=10):\n",
    "    print(index,value)    "
   ]
  },
  {
   "cell_type": "markdown",
   "metadata": {},
   "source": [
    " # zip()\n",
    " \n",
    " * zip can be used to zip more than 2 list."
   ]
  },
  {
   "cell_type": "code",
   "execution_count": 33,
   "metadata": {},
   "outputs": [
    {
     "name": "stdout",
     "output_type": "stream",
     "text": [
      "<class 'zip'>\n",
      "\n",
      "[('captain america', 'steve'), ('ironman', 'stark'), ('spiderman', 'perer')]\n"
     ]
    }
   ],
   "source": [
    "avengers = ['captain america','ironman','spiderman']\n",
    "names = ['steve','stark','perer']\n",
    "\n",
    "z = zip(avengers,names)\n",
    "print(type(z))\n",
    "\n",
    "zlist = list(z)\n",
    "print(*z)\n",
    "# return a touple of list\n",
    "print(zlist)"
   ]
  },
  {
   "cell_type": "code",
   "execution_count": 27,
   "metadata": {},
   "outputs": [
    {
     "name": "stdout",
     "output_type": "stream",
     "text": [
      "('captain america', 'steve') ('ironman', 'stark') ('spiderman', 'perer')\n"
     ]
    }
   ],
   "source": [
    "# use of splat operator\n",
    "\n",
    "\n",
    "avengers = ['captain america','ironman','spiderman']\n",
    "names = ['steve','stark','perer']\n",
    "z = zip(avengers,names)\n",
    "print(*z)"
   ]
  },
  {
   "cell_type": "code",
   "execution_count": 36,
   "metadata": {},
   "outputs": [
    {
     "name": "stdout",
     "output_type": "stream",
     "text": [
      "('captain america', 'ironman', 'spiderman')\n",
      "('steve', 'stark', 'perer')\n"
     ]
    }
   ],
   "source": [
    "# unzip with argument zip(*var)\n",
    "\n",
    "avengers = ['captain america','ironman','spiderman']\n",
    "names = ['steve','stark','perer']\n",
    "z = zip(avengers,names)\n",
    "\n",
    "aven,name = zip(*z)\n",
    "\n",
    "# return touple\n",
    "print(aven)\n",
    "print(name)"
   ]
  },
  {
   "cell_type": "markdown",
   "metadata": {},
   "source": [
    "# Using iterators to load large files into memory using chunk\n"
   ]
  },
  {
   "cell_type": "code",
   "execution_count": 40,
   "metadata": {},
   "outputs": [
    {
     "data": {
      "text/plain": [
       "0    en\n",
       "1    en\n",
       "2    et\n",
       "3    en\n",
       "4    en\n",
       "Name: lang, dtype: object"
      ]
     },
     "execution_count": 40,
     "metadata": {},
     "output_type": "execute_result"
    }
   ],
   "source": [
    "import pandas as pd\n",
    "df = pd.read_csv('tweets.csv')\n",
    "df['lang'].head()"
   ]
  },
  {
   "cell_type": "code",
   "execution_count": 38,
   "metadata": {},
   "outputs": [
    {
     "name": "stdout",
     "output_type": "stream",
     "text": [
      "{'et': 1, 'und': 2, 'en': 97}\n"
     ]
    }
   ],
   "source": [
    "# Initialize an empty dictionary: counts_dict\n",
    "counts_dict = {}\n",
    "\n",
    "\n",
    "# Iterate over the file chunk by chunk\n",
    "for chunk in pd.read_csv('tweets.csv',chunksize=10):\n",
    "\n",
    "    # Iterate over the column in DataFrame\n",
    "    for entry in chunk['lang']:\n",
    "        if entry in counts_dict.keys():\n",
    "            counts_dict[entry] += 1\n",
    "        else:\n",
    "            counts_dict[entry] = 1\n",
    "\n",
    "# Print the populated dictionary\n",
    "print(counts_dict)"
   ]
  },
  {
   "cell_type": "markdown",
   "metadata": {},
   "source": [
    "# List comprehensions\n",
    "\n",
    "* collapse for loops building lists into a  single line\n",
    "* components\n",
    "    1. iterables\n",
    "    2. iterator varibale\n",
    "    3. output expession"
   ]
  },
  {
   "cell_type": "code",
   "execution_count": 42,
   "metadata": {},
   "outputs": [
    {
     "name": "stdout",
     "output_type": "stream",
     "text": [
      "[2, 3, 4, 5, 9, 6]\n"
     ]
    }
   ],
   "source": [
    "nums = [1,2,3,4,8,5]\n",
    "new_nums = [num+1 for  num in nums]\n",
    "print(new_nums)"
   ]
  },
  {
   "cell_type": "code",
   "execution_count": 44,
   "metadata": {},
   "outputs": [
    {
     "data": {
      "text/plain": [
       "[0, 1, 2, 3, 4, 5, 6, 7, 8, 9, 10]"
      ]
     },
     "execution_count": 44,
     "metadata": {},
     "output_type": "execute_result"
    }
   ],
   "source": [
    "result = [num for num in range(11) ]\n",
    "result"
   ]
  },
  {
   "cell_type": "code",
   "execution_count": 49,
   "metadata": {},
   "outputs": [
    {
     "name": "stdout",
     "output_type": "stream",
     "text": [
      "[(0, 6), (0, 7), (1, 6), (1, 7)]\n"
     ]
    }
   ],
   "source": [
    "pair_1 = []\n",
    "\n",
    "for num1 in range(0,2):\n",
    "    for num2 in range(6,8):\n",
    "        pair_1.append((num1,num2))\n",
    "\n",
    "print(pair_1)        "
   ]
  },
  {
   "cell_type": "code",
   "execution_count": 51,
   "metadata": {},
   "outputs": [
    {
     "data": {
      "text/plain": [
       "[(0, 6), (0, 7), (1, 6), (1, 7)]"
      ]
     },
     "execution_count": 51,
     "metadata": {},
     "output_type": "execute_result"
    }
   ],
   "source": [
    "pair_2 = [(num1,num2) for num1 in range(0,2) for num2 in range(6,8)]\n",
    "pair_2"
   ]
  },
  {
   "cell_type": "code",
   "execution_count": 53,
   "metadata": {},
   "outputs": [
    {
     "data": {
      "text/plain": [
       "[[0, 1, 2, 3, 4],\n",
       " [0, 1, 2, 3, 4],\n",
       " [0, 1, 2, 3, 4],\n",
       " [0, 1, 2, 3, 4],\n",
       " [0, 1, 2, 3, 4]]"
      ]
     },
     "execution_count": 53,
     "metadata": {},
     "output_type": "execute_result"
    }
   ],
   "source": [
    "square = [[row for row in range(5)] for col in range(5)]\n",
    "square"
   ]
  },
  {
   "cell_type": "code",
   "execution_count": null,
   "metadata": {
    "collapsed": true
   },
   "outputs": [],
   "source": []
  }
 ],
 "metadata": {
  "kernelspec": {
   "display_name": "Python 3",
   "language": "python",
   "name": "opencv"
  },
  "language_info": {
   "codemirror_mode": {
    "name": "ipython",
    "version": 3
   },
   "file_extension": ".py",
   "mimetype": "text/x-python",
   "name": "python",
   "nbconvert_exporter": "python",
   "pygments_lexer": "ipython3",
   "version": "3.5.3"
  }
 },
 "nbformat": 4,
 "nbformat_minor": 2
}
